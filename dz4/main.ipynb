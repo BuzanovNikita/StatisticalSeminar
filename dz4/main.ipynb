{
 "cells": [
  {
   "cell_type": "code",
   "execution_count": 4,
   "id": "56bcdd43",
   "metadata": {},
   "outputs": [],
   "source": [
    "from sklearn.linear_model import LogisticRegression\n",
    "import pandas as pd\n",
    "\n",
    "train = pd.read_csv('var_12_train.csv')\n",
    "test = pd.read_csv('var_12_test.csv')\n",
    "\n",
    "clf = LogisticRegression()\n",
    "\n",
    "clf.fit(train.drop('output', axis=1), train.output)\n",
    "pred = clf.predict(test)\n",
    "pd.Series(pred, name='x').to_csv('predictions.csv', index = False)"
   ]
  },
  {
   "cell_type": "code",
   "execution_count": 3,
   "id": "078e6811",
   "metadata": {},
   "outputs": [],
   "source": [
    "from sklearn.metrics import accuracy_score"
   ]
  },
  {
   "cell_type": "code",
   "execution_count": 12,
   "id": "eaee110d",
   "metadata": {},
   "outputs": [],
   "source": [
    "train = pd.read_csv('var_2_train.csv')\n",
    "test = pd.read_csv('var_2_test.csv')"
   ]
  },
  {
   "cell_type": "code",
   "execution_count": 17,
   "id": "b7c715b1",
   "metadata": {},
   "outputs": [
    {
     "data": {
      "text/html": [
       "<div>\n",
       "<style scoped>\n",
       "    .dataframe tbody tr th:only-of-type {\n",
       "        vertical-align: middle;\n",
       "    }\n",
       "\n",
       "    .dataframe tbody tr th {\n",
       "        vertical-align: top;\n",
       "    }\n",
       "\n",
       "    .dataframe thead th {\n",
       "        text-align: right;\n",
       "    }\n",
       "</style>\n",
       "<table border=\"1\" class=\"dataframe\">\n",
       "  <thead>\n",
       "    <tr style=\"text-align: right;\">\n",
       "      <th></th>\n",
       "      <th>output</th>\n",
       "      <th>x1</th>\n",
       "      <th>x2</th>\n",
       "      <th>x3</th>\n",
       "      <th>x4</th>\n",
       "      <th>x5</th>\n",
       "      <th>x6</th>\n",
       "      <th>x7</th>\n",
       "      <th>x8</th>\n",
       "      <th>x9</th>\n",
       "      <th>x10</th>\n",
       "    </tr>\n",
       "  </thead>\n",
       "  <tbody>\n",
       "    <tr>\n",
       "      <th>0</th>\n",
       "      <td>0</td>\n",
       "      <td>0.559420</td>\n",
       "      <td>-0.703172</td>\n",
       "      <td>0.545404</td>\n",
       "      <td>1.854820</td>\n",
       "      <td>0.010798</td>\n",
       "      <td>0.582303</td>\n",
       "      <td>2.448766</td>\n",
       "      <td>0.709810</td>\n",
       "      <td>-1.048828</td>\n",
       "      <td>-6.607725</td>\n",
       "    </tr>\n",
       "    <tr>\n",
       "      <th>1</th>\n",
       "      <td>0</td>\n",
       "      <td>-1.694486</td>\n",
       "      <td>0.901512</td>\n",
       "      <td>-1.383039</td>\n",
       "      <td>1.449046</td>\n",
       "      <td>-0.108741</td>\n",
       "      <td>0.536923</td>\n",
       "      <td>-3.608880</td>\n",
       "      <td>-2.948348</td>\n",
       "      <td>-0.547530</td>\n",
       "      <td>-1.996657</td>\n",
       "    </tr>\n",
       "    <tr>\n",
       "      <th>2</th>\n",
       "      <td>1</td>\n",
       "      <td>-1.694745</td>\n",
       "      <td>-0.619444</td>\n",
       "      <td>-0.181207</td>\n",
       "      <td>0.592882</td>\n",
       "      <td>1.571650</td>\n",
       "      <td>-1.014740</td>\n",
       "      <td>2.684463</td>\n",
       "      <td>1.470425</td>\n",
       "      <td>7.140594</td>\n",
       "      <td>3.381332</td>\n",
       "    </tr>\n",
       "    <tr>\n",
       "      <th>3</th>\n",
       "      <td>1</td>\n",
       "      <td>0.848616</td>\n",
       "      <td>-0.540165</td>\n",
       "      <td>0.005900</td>\n",
       "      <td>2.942434</td>\n",
       "      <td>-0.231868</td>\n",
       "      <td>2.940785</td>\n",
       "      <td>4.248207</td>\n",
       "      <td>1.904235</td>\n",
       "      <td>-2.785625</td>\n",
       "      <td>2.038244</td>\n",
       "    </tr>\n",
       "    <tr>\n",
       "      <th>4</th>\n",
       "      <td>1</td>\n",
       "      <td>-0.257281</td>\n",
       "      <td>-1.019094</td>\n",
       "      <td>0.574843</td>\n",
       "      <td>1.141559</td>\n",
       "      <td>0.629215</td>\n",
       "      <td>2.704650</td>\n",
       "      <td>1.263450</td>\n",
       "      <td>3.311468</td>\n",
       "      <td>0.749820</td>\n",
       "      <td>-0.645835</td>\n",
       "    </tr>\n",
       "  </tbody>\n",
       "</table>\n",
       "</div>"
      ],
      "text/plain": [
       "   output        x1        x2        x3        x4        x5        x6  \\\n",
       "0       0  0.559420 -0.703172  0.545404  1.854820  0.010798  0.582303   \n",
       "1       0 -1.694486  0.901512 -1.383039  1.449046 -0.108741  0.536923   \n",
       "2       1 -1.694745 -0.619444 -0.181207  0.592882  1.571650 -1.014740   \n",
       "3       1  0.848616 -0.540165  0.005900  2.942434 -0.231868  2.940785   \n",
       "4       1 -0.257281 -1.019094  0.574843  1.141559  0.629215  2.704650   \n",
       "\n",
       "         x7        x8        x9       x10  \n",
       "0  2.448766  0.709810 -1.048828 -6.607725  \n",
       "1 -3.608880 -2.948348 -0.547530 -1.996657  \n",
       "2  2.684463  1.470425  7.140594  3.381332  \n",
       "3  4.248207  1.904235 -2.785625  2.038244  \n",
       "4  1.263450  3.311468  0.749820 -0.645835  "
      ]
     },
     "execution_count": 17,
     "metadata": {},
     "output_type": "execute_result"
    }
   ],
   "source": [
    "train.head()"
   ]
  },
  {
   "cell_type": "code",
   "execution_count": 18,
   "id": "9247d25c",
   "metadata": {},
   "outputs": [
    {
     "data": {
      "text/html": [
       "<div>\n",
       "<style scoped>\n",
       "    .dataframe tbody tr th:only-of-type {\n",
       "        vertical-align: middle;\n",
       "    }\n",
       "\n",
       "    .dataframe tbody tr th {\n",
       "        vertical-align: top;\n",
       "    }\n",
       "\n",
       "    .dataframe thead th {\n",
       "        text-align: right;\n",
       "    }\n",
       "</style>\n",
       "<table border=\"1\" class=\"dataframe\">\n",
       "  <thead>\n",
       "    <tr style=\"text-align: right;\">\n",
       "      <th></th>\n",
       "      <th>x1</th>\n",
       "      <th>x2</th>\n",
       "      <th>x3</th>\n",
       "      <th>x4</th>\n",
       "      <th>x5</th>\n",
       "      <th>x6</th>\n",
       "      <th>x7</th>\n",
       "      <th>x8</th>\n",
       "      <th>x9</th>\n",
       "      <th>x10</th>\n",
       "    </tr>\n",
       "  </thead>\n",
       "  <tbody>\n",
       "    <tr>\n",
       "      <th>0</th>\n",
       "      <td>0.876224</td>\n",
       "      <td>1.110100</td>\n",
       "      <td>-0.821888</td>\n",
       "      <td>1.213290</td>\n",
       "      <td>-0.941695</td>\n",
       "      <td>2.629812</td>\n",
       "      <td>-3.621787</td>\n",
       "      <td>-3.404652</td>\n",
       "      <td>1.368726</td>\n",
       "      <td>0.925584</td>\n",
       "    </tr>\n",
       "    <tr>\n",
       "      <th>1</th>\n",
       "      <td>0.949827</td>\n",
       "      <td>-0.087204</td>\n",
       "      <td>-2.412531</td>\n",
       "      <td>-1.980279</td>\n",
       "      <td>1.013052</td>\n",
       "      <td>-0.247142</td>\n",
       "      <td>-4.578945</td>\n",
       "      <td>2.098004</td>\n",
       "      <td>-0.611849</td>\n",
       "      <td>0.970407</td>\n",
       "    </tr>\n",
       "    <tr>\n",
       "      <th>2</th>\n",
       "      <td>0.883466</td>\n",
       "      <td>-0.551898</td>\n",
       "      <td>-1.976821</td>\n",
       "      <td>0.277507</td>\n",
       "      <td>-1.448745</td>\n",
       "      <td>-0.797323</td>\n",
       "      <td>-1.180766</td>\n",
       "      <td>1.631359</td>\n",
       "      <td>-3.544300</td>\n",
       "      <td>-5.661997</td>\n",
       "    </tr>\n",
       "    <tr>\n",
       "      <th>3</th>\n",
       "      <td>0.322156</td>\n",
       "      <td>0.392477</td>\n",
       "      <td>1.104309</td>\n",
       "      <td>-1.615595</td>\n",
       "      <td>-0.446469</td>\n",
       "      <td>3.325475</td>\n",
       "      <td>4.059133</td>\n",
       "      <td>-3.308632</td>\n",
       "      <td>-0.343808</td>\n",
       "      <td>-0.802421</td>\n",
       "    </tr>\n",
       "    <tr>\n",
       "      <th>4</th>\n",
       "      <td>0.484205</td>\n",
       "      <td>1.508122</td>\n",
       "      <td>-0.935744</td>\n",
       "      <td>-1.034556</td>\n",
       "      <td>-1.140192</td>\n",
       "      <td>0.792576</td>\n",
       "      <td>-3.206508</td>\n",
       "      <td>-2.605057</td>\n",
       "      <td>1.829733</td>\n",
       "      <td>-1.761170</td>\n",
       "    </tr>\n",
       "  </tbody>\n",
       "</table>\n",
       "</div>"
      ],
      "text/plain": [
       "         x1        x2        x3        x4        x5        x6        x7  \\\n",
       "0  0.876224  1.110100 -0.821888  1.213290 -0.941695  2.629812 -3.621787   \n",
       "1  0.949827 -0.087204 -2.412531 -1.980279  1.013052 -0.247142 -4.578945   \n",
       "2  0.883466 -0.551898 -1.976821  0.277507 -1.448745 -0.797323 -1.180766   \n",
       "3  0.322156  0.392477  1.104309 -1.615595 -0.446469  3.325475  4.059133   \n",
       "4  0.484205  1.508122 -0.935744 -1.034556 -1.140192  0.792576 -3.206508   \n",
       "\n",
       "         x8        x9       x10  \n",
       "0 -3.404652  1.368726  0.925584  \n",
       "1  2.098004 -0.611849  0.970407  \n",
       "2  1.631359 -3.544300 -5.661997  \n",
       "3 -3.308632 -0.343808 -0.802421  \n",
       "4 -2.605057  1.829733 -1.761170  "
      ]
     },
     "execution_count": 18,
     "metadata": {},
     "output_type": "execute_result"
    }
   ],
   "source": [
    "test.head()"
   ]
  },
  {
   "cell_type": "code",
   "execution_count": 9,
   "id": "57e2454e",
   "metadata": {},
   "outputs": [],
   "source": [
    "clf = LogisticRegression()"
   ]
  },
  {
   "cell_type": "code",
   "execution_count": 15,
   "id": "557ae70a",
   "metadata": {},
   "outputs": [
    {
     "data": {
      "text/html": [
       "<style>#sk-container-id-1 {color: black;}#sk-container-id-1 pre{padding: 0;}#sk-container-id-1 div.sk-toggleable {background-color: white;}#sk-container-id-1 label.sk-toggleable__label {cursor: pointer;display: block;width: 100%;margin-bottom: 0;padding: 0.3em;box-sizing: border-box;text-align: center;}#sk-container-id-1 label.sk-toggleable__label-arrow:before {content: \"▸\";float: left;margin-right: 0.25em;color: #696969;}#sk-container-id-1 label.sk-toggleable__label-arrow:hover:before {color: black;}#sk-container-id-1 div.sk-estimator:hover label.sk-toggleable__label-arrow:before {color: black;}#sk-container-id-1 div.sk-toggleable__content {max-height: 0;max-width: 0;overflow: hidden;text-align: left;background-color: #f0f8ff;}#sk-container-id-1 div.sk-toggleable__content pre {margin: 0.2em;color: black;border-radius: 0.25em;background-color: #f0f8ff;}#sk-container-id-1 input.sk-toggleable__control:checked~div.sk-toggleable__content {max-height: 200px;max-width: 100%;overflow: auto;}#sk-container-id-1 input.sk-toggleable__control:checked~label.sk-toggleable__label-arrow:before {content: \"▾\";}#sk-container-id-1 div.sk-estimator input.sk-toggleable__control:checked~label.sk-toggleable__label {background-color: #d4ebff;}#sk-container-id-1 div.sk-label input.sk-toggleable__control:checked~label.sk-toggleable__label {background-color: #d4ebff;}#sk-container-id-1 input.sk-hidden--visually {border: 0;clip: rect(1px 1px 1px 1px);clip: rect(1px, 1px, 1px, 1px);height: 1px;margin: -1px;overflow: hidden;padding: 0;position: absolute;width: 1px;}#sk-container-id-1 div.sk-estimator {font-family: monospace;background-color: #f0f8ff;border: 1px dotted black;border-radius: 0.25em;box-sizing: border-box;margin-bottom: 0.5em;}#sk-container-id-1 div.sk-estimator:hover {background-color: #d4ebff;}#sk-container-id-1 div.sk-parallel-item::after {content: \"\";width: 100%;border-bottom: 1px solid gray;flex-grow: 1;}#sk-container-id-1 div.sk-label:hover label.sk-toggleable__label {background-color: #d4ebff;}#sk-container-id-1 div.sk-serial::before {content: \"\";position: absolute;border-left: 1px solid gray;box-sizing: border-box;top: 0;bottom: 0;left: 50%;z-index: 0;}#sk-container-id-1 div.sk-serial {display: flex;flex-direction: column;align-items: center;background-color: white;padding-right: 0.2em;padding-left: 0.2em;position: relative;}#sk-container-id-1 div.sk-item {position: relative;z-index: 1;}#sk-container-id-1 div.sk-parallel {display: flex;align-items: stretch;justify-content: center;background-color: white;position: relative;}#sk-container-id-1 div.sk-item::before, #sk-container-id-1 div.sk-parallel-item::before {content: \"\";position: absolute;border-left: 1px solid gray;box-sizing: border-box;top: 0;bottom: 0;left: 50%;z-index: -1;}#sk-container-id-1 div.sk-parallel-item {display: flex;flex-direction: column;z-index: 1;position: relative;background-color: white;}#sk-container-id-1 div.sk-parallel-item:first-child::after {align-self: flex-end;width: 50%;}#sk-container-id-1 div.sk-parallel-item:last-child::after {align-self: flex-start;width: 50%;}#sk-container-id-1 div.sk-parallel-item:only-child::after {width: 0;}#sk-container-id-1 div.sk-dashed-wrapped {border: 1px dashed gray;margin: 0 0.4em 0.5em 0.4em;box-sizing: border-box;padding-bottom: 0.4em;background-color: white;}#sk-container-id-1 div.sk-label label {font-family: monospace;font-weight: bold;display: inline-block;line-height: 1.2em;}#sk-container-id-1 div.sk-label-container {text-align: center;}#sk-container-id-1 div.sk-container {/* jupyter's `normalize.less` sets `[hidden] { display: none; }` but bootstrap.min.css set `[hidden] { display: none !important; }` so we also need the `!important` here to be able to override the default hidden behavior on the sphinx rendered scikit-learn.org. See: https://github.com/scikit-learn/scikit-learn/issues/21755 */display: inline-block !important;position: relative;}#sk-container-id-1 div.sk-text-repr-fallback {display: none;}</style><div id=\"sk-container-id-1\" class=\"sk-top-container\"><div class=\"sk-text-repr-fallback\"><pre>LogisticRegression()</pre><b>In a Jupyter environment, please rerun this cell to show the HTML representation or trust the notebook. <br />On GitHub, the HTML representation is unable to render, please try loading this page with nbviewer.org.</b></div><div class=\"sk-container\" hidden><div class=\"sk-item\"><div class=\"sk-estimator sk-toggleable\"><input class=\"sk-toggleable__control sk-hidden--visually\" id=\"sk-estimator-id-1\" type=\"checkbox\" checked><label for=\"sk-estimator-id-1\" class=\"sk-toggleable__label sk-toggleable__label-arrow\">LogisticRegression</label><div class=\"sk-toggleable__content\"><pre>LogisticRegression()</pre></div></div></div></div></div>"
      ],
      "text/plain": [
       "LogisticRegression()"
      ]
     },
     "execution_count": 15,
     "metadata": {},
     "output_type": "execute_result"
    }
   ],
   "source": [
    "clf.fit(train.drop('output', axis=1), train.output)"
   ]
  },
  {
   "cell_type": "code",
   "execution_count": 21,
   "id": "06f05bc3",
   "metadata": {},
   "outputs": [],
   "source": [
    "pred = clf.predict(test)"
   ]
  },
  {
   "cell_type": "code",
   "execution_count": 22,
   "id": "141a20b5",
   "metadata": {},
   "outputs": [
    {
     "data": {
      "text/plain": [
       "array([0, 0, 0, 1, 0, 0, 1, 0, 0, 0, 0, 1, 1, 0, 1, 0, 0, 0, 0, 0, 0, 0,\n",
       "       1, 0, 0, 0, 0, 1, 1, 1, 0, 1, 1, 1, 0, 0, 1, 1, 1, 0, 0, 1, 1, 1,\n",
       "       0, 0, 0, 0, 0, 0, 1, 0, 1, 0, 0, 1, 0, 1, 0, 0, 1, 0, 0, 0, 0, 0,\n",
       "       0, 1, 0, 0, 1, 1, 0, 0, 0, 0, 1, 1, 1, 1, 1, 0, 0, 0, 0, 1, 1, 0,\n",
       "       1, 0, 1, 0, 0, 0, 0, 1, 1, 1, 1, 1])"
      ]
     },
     "execution_count": 22,
     "metadata": {},
     "output_type": "execute_result"
    }
   ],
   "source": [
    "pred"
   ]
  },
  {
   "cell_type": "code",
   "execution_count": 27,
   "id": "785a311b",
   "metadata": {},
   "outputs": [],
   "source": [
    "pd.Series(pred, name='x').to_csv('predictions.csv', index = False)"
   ]
  },
  {
   "cell_type": "code",
   "execution_count": 33,
   "id": "5566f28e",
   "metadata": {},
   "outputs": [
    {
     "data": {
      "text/plain": [
       "0.99"
      ]
     },
     "execution_count": 33,
     "metadata": {},
     "output_type": "execute_result"
    }
   ],
   "source": [
    "pred_train = clf.predict(train.drop('output', axis=1))\n",
    "accuracy_score(pred_train, train.output)"
   ]
  },
  {
   "cell_type": "code",
   "execution_count": null,
   "id": "d3d11561",
   "metadata": {},
   "outputs": [],
   "source": []
  },
  {
   "cell_type": "code",
   "execution_count": null,
   "id": "b7f36b6e",
   "metadata": {},
   "outputs": [],
   "source": []
  },
  {
   "cell_type": "code",
   "execution_count": null,
   "id": "66bb26b4",
   "metadata": {},
   "outputs": [],
   "source": []
  },
  {
   "cell_type": "code",
   "execution_count": null,
   "id": "a113c589",
   "metadata": {},
   "outputs": [],
   "source": []
  }
 ],
 "metadata": {
  "kernelspec": {
   "display_name": "Python 3 (ipykernel)",
   "language": "python",
   "name": "python3"
  },
  "language_info": {
   "codemirror_mode": {
    "name": "ipython",
    "version": 3
   },
   "file_extension": ".py",
   "mimetype": "text/x-python",
   "name": "python",
   "nbconvert_exporter": "python",
   "pygments_lexer": "ipython3",
   "version": "3.10.13"
  }
 },
 "nbformat": 4,
 "nbformat_minor": 5
}
